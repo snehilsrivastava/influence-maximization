{
  "cells": [
    {
      "cell_type": "code",
      "execution_count": null,
      "metadata": {
        "colab": {
          "base_uri": "https://localhost:8080/"
        },
        "id": "vwzoA7pc7Ru1",
        "outputId": "d72d1d4e-0420-4149-92cd-8c839647d16c"
      },
      "outputs": [
        {
          "name": "stdout",
          "output_type": "stream",
          "text": [
            "Looking in indexes: https://pypi.org/simple, https://us-python.pkg.dev/colab-wheels/public/simple/\n",
            "Requirement already satisfied: dgl in /usr/local/lib/python3.9/dist-packages (1.0.1)\n",
            "Requirement already satisfied: tqdm in /usr/local/lib/python3.9/dist-packages (from dgl) (4.65.0)\n",
            "Requirement already satisfied: requests>=2.19.0 in /usr/local/lib/python3.9/dist-packages (from dgl) (2.25.1)\n",
            "Requirement already satisfied: numpy>=1.14.0 in /usr/local/lib/python3.9/dist-packages (from dgl) (1.22.4)\n",
            "Requirement already satisfied: networkx>=2.1 in /usr/local/lib/python3.9/dist-packages (from dgl) (3.0)\n",
            "Requirement already satisfied: psutil>=5.8.0 in /usr/local/lib/python3.9/dist-packages (from dgl) (5.9.4)\n",
            "Requirement already satisfied: scipy>=1.1.0 in /usr/local/lib/python3.9/dist-packages (from dgl) (1.10.1)\n",
            "Requirement already satisfied: idna<3,>=2.5 in /usr/local/lib/python3.9/dist-packages (from requests>=2.19.0->dgl) (2.10)\n",
            "Requirement already satisfied: chardet<5,>=3.0.2 in /usr/local/lib/python3.9/dist-packages (from requests>=2.19.0->dgl) (4.0.0)\n",
            "Requirement already satisfied: certifi>=2017.4.17 in /usr/local/lib/python3.9/dist-packages (from requests>=2.19.0->dgl) (2022.12.7)\n",
            "Requirement already satisfied: urllib3<1.27,>=1.21.1 in /usr/local/lib/python3.9/dist-packages (from requests>=2.19.0->dgl) (1.26.15)\n"
          ]
        }
      ],
      "source": [
        "!pip install dgl"
      ]
    },
    {
      "cell_type": "code",
      "execution_count": null,
      "metadata": {
        "id": "oJyd7FY6_cFa"
      },
      "outputs": [],
      "source": []
    },
    {
      "cell_type": "markdown",
      "metadata": {
        "id": "wjNRn5fB_ctw"
      },
      "source": [
        "### Dependencies"
      ]
    },
    {
      "cell_type": "code",
      "execution_count": null,
      "metadata": {
        "colab": {
          "base_uri": "https://localhost:8080/"
        },
        "id": "VJ4QvIIF7xbb",
        "outputId": "3d83e050-3c17-448d-9aed-646400bcfde8"
      },
      "outputs": [
        {
          "name": "stderr",
          "output_type": "stream",
          "text": [
            "DGL backend not selected or invalid.  Assuming PyTorch for now.\n"
          ]
        },
        {
          "name": "stdout",
          "output_type": "stream",
          "text": [
            "Setting the default backend to \"pytorch\". You can change it in the ~/.dgl/config.json file or export the DGLBACKEND environment variable.  Valid options are: pytorch, mxnet, tensorflow (all lowercase)\n"
          ]
        }
      ],
      "source": [
        "import torch\n",
        "import dgl\n",
        "from collections import namedtuple\n",
        "import dgl.function as fn\n",
        "from copy import deepcopy as dc\n",
        "import random\n",
        "import time\n",
        "from time import time\n",
        "from torch.utils.data import DataLoader\n",
        "import numpy as np\n",
        "import matplotlib.pyplot as plt\n"
      ]
    },
    {
      "cell_type": "markdown",
      "metadata": {
        "id": "OYWBA7fY3KyE"
      },
      "source": [
        "## Model"
      ]
    },
    {
      "cell_type": "code",
      "execution_count": null,
      "metadata": {
        "id": "aBkmHYqw3KPF"
      },
      "outputs": [],
      "source": [
        "import torch\n",
        "import torch.nn as nn\n",
        "import torch.nn.functional as F\n",
        "\n",
        "class QNetwork(nn.Module):\n",
        "    \"\"\"Actor (Policy) Model.\"\"\"\n",
        "\n",
        "    def __init__(self, state_size, action_size, seed, fc1_units=64, fc2_units=64):\n",
        "        \"\"\"Initialize parameters and build model.\n",
        "        Params\n",
        "        ======\n",
        "            state_size (int): Dimension of each state\n",
        "            action_size (int): Dimension of each action\n",
        "            seed (int): Random seed\n",
        "            fc1_units (int): Number of nodes in first hidden layer\n",
        "            fc2_units (int): Number of nodes in second hidden layer\n",
        "        \"\"\"\n",
        "        super(QNetwork, self).__init__()\n",
        "        self.seed = torch.manual_seed(seed)\n",
        "        self.fc1 = nn.Linear(state_size, fc1_units)\n",
        "        self.fc2 = nn.Linear(fc1_units, fc2_units)\n",
        "        self.fc3 = nn.Linear(fc2_units, action_size)\n",
        "\n",
        "    def forward(self, state):\n",
        "        \"\"\"Build a network that maps state -> action values.\"\"\"\n",
        "        x = F.relu(self.fc1(state))\n",
        "        x = F.relu(self.fc2(x))\n",
        "        return self.fc3(x)"
      ]
    },
    {
      "cell_type": "markdown",
      "metadata": {
        "id": "ad16n6GO3PG7"
      },
      "source": [
        "## Agent"
      ]
    },
    {
      "cell_type": "code",
      "execution_count": null,
      "metadata": {
        "id": "H3b4yeDgoNak"
      },
      "outputs": [],
      "source": [
        "import numpy as np\n",
        "import random\n",
        "from collections import namedtuple, deque\n",
        "\n",
        "import torch\n",
        "import torch.nn.functional as F\n",
        "import torch.optim as optim\n",
        "\n",
        "BUFFER_SIZE = int(1e5)  # replay buffer size\n",
        "# BATCH_SIZE = 64         # minibatch size\n",
        "BATCH_SIZE = 2         # minibatch size\n",
        "GAMMA = 0.99            # discount factor\n",
        "TAU = 1e-3              # for soft update of target parameters\n",
        "LR = 5e-4               # learning rate \n",
        "# UPDATE_EVERY = 4        # how often to update the network\n",
        "UPDATE_EVERY = 1       # how often to update the network\n",
        "\n",
        "device = torch.device(\"cuda:0\" if torch.cuda.is_available() else \"cpu\")\n",
        "\n",
        "class Agent():\n",
        "    \"\"\"Interacts with and learns from the environment.\"\"\"\n",
        "\n",
        "    def __init__(self, state_size, action_size, seed):\n",
        "        \"\"\"Initialize an Agent object.\n",
        "        \n",
        "        Params\n",
        "        ======\n",
        "            state_size (int): dimension of each state\n",
        "            action_size (int): dimension of each action\n",
        "            seed (int): random seed\n",
        "        \"\"\"\n",
        "        self.state_size = state_size\n",
        "        self.action_size = action_size\n",
        "        self.seed = random.seed(seed)\n",
        "\n",
        "        # Q-Network\n",
        "        self.qnetwork_local = QNetwork(state_size, action_size, seed).to(device)\n",
        "        self.qnetwork_target = QNetwork(state_size, action_size, seed).to(device)\n",
        "        self.optimizer = optim.Adam(self.qnetwork_local.parameters(), lr=LR)\n",
        "\n",
        "        # Replay memory\n",
        "        self.memory = ReplayBuffer(action_size, BUFFER_SIZE, BATCH_SIZE, seed)\n",
        "        # Initialize time step (for updating every UPDATE_EVERY steps)\n",
        "        self.t_step = 0\n",
        "    \n",
        "    def step(self, state, action, reward, next_state, done):\n",
        "        # Save experience in replay memory\n",
        "        # print(\"Add to memory : \", state, action, next_state, reward)\n",
        "        self.memory.add(state, action, reward, next_state, done)\n",
        "        \n",
        "        # Learn every UPDATE_EVERY time steps.\n",
        "        self.t_step = (self.t_step + 1) % UPDATE_EVERY\n",
        "        if self.t_step == 0:\n",
        "            # If enough samples are available in memory, get random subset and learn\n",
        "            if len(self.memory) > BATCH_SIZE:\n",
        "                experiences = self.memory.sample()\n",
        "                self.learn(experiences, GAMMA)\n",
        "\n",
        "    def act(self, env, state, eps=0.):\n",
        "        \"\"\"Returns actions for given state as per current policy.\n",
        "        \n",
        "        Params\n",
        "        ======\n",
        "            state (array_like): current state\n",
        "            eps (float): epsilon, for epsilon-greedy action selection\n",
        "        \"\"\"\n",
        "        node_state = state[: -1 ]\n",
        "        valid_action = []\n",
        "        for i in range(len(node_state)):\n",
        "            if(node_state[i] == 0 and env.cost[i] <= env.max_budget):\n",
        "                valid_action.append(True)\n",
        "            else:\n",
        "                valid_action.append(False)\n",
        "\n",
        "        valid_action_arg = []\n",
        "        for i in range(len(valid_action)):\n",
        "            if valid_action[i] == True:\n",
        "                valid_action_arg.append(i)\n",
        "\n",
        "\n",
        "        state = torch.from_numpy(state).float().unsqueeze(0).to(device)\n",
        "        self.qnetwork_local.eval()\n",
        "        with torch.no_grad():\n",
        "            action_values = self.qnetwork_local(state)\n",
        "            # print(\"training local model\", state, action_values)\n",
        "        self.qnetwork_local.train()\n",
        "\n",
        "        mn = -1e9\n",
        "        for i in range(len(valid_action)):\n",
        "            if(valid_action[i] == False):\n",
        "                action_values[0][i] = mn\n",
        "\n",
        "        # Epsilon-greedy action selection\n",
        "        if random.random() > eps:\n",
        "            # picks action with maximum value attached to it \n",
        "            choice = np.argmax(action_values.cpu().data.numpy())\n",
        "            if choice == mn : \n",
        "                return -1\n",
        "\n",
        "            return choice\n",
        "        else:\n",
        "            # randomly pick any action from the values that are not already chosen \n",
        "            if len(valid_action_arg) == 0 :\n",
        "                return -1\n",
        "                \n",
        "            choice = random.choice(valid_action_arg)\n",
        "            # print(\"greedy : \", choice)\n",
        "            return choice\n",
        "\n",
        "    def learn(self, experiences, gamma):\n",
        "        \"\"\"Update value parameters using given batch of experience tuples.\n",
        "\n",
        "        Params\n",
        "        ======\n",
        "            experiences (Tuple[torch.Tensor]): tuple of (s, a, r, s', done) tuples \n",
        "            gamma (float): discount factor\n",
        "        \"\"\"\n",
        "        states, actions, rewards, next_states, dones = experiences\n",
        "              \n",
        "        Q_targets_next = self.qnetwork_target(next_states).detach().max(1)[0].unsqueeze(1)\n",
        "        Q_targets = rewards + (gamma * Q_targets_next * (1 - dones))\n",
        "\n",
        "        \n",
        "        Q_expected = self.qnetwork_local(states).gather(1, actions)\n",
        "\n",
        "        # Compute loss\n",
        "        loss = F.mse_loss(Q_expected, Q_targets)\n",
        "        # Minimize the loss\n",
        "        self.optimizer.zero_grad()\n",
        "        loss.backward()\n",
        "        self.optimizer.step()\n",
        "\n",
        "        # ------------------- update target network ------------------- #\n",
        "        self.soft_update(self.qnetwork_local, self.qnetwork_target, TAU)                     \n",
        "\n",
        "    def soft_update(self, local_model, target_model, tau):\n",
        "        \"\"\"Soft update model parameters.\n",
        "        θ_target = τ*θ_local + (1 - τ)*θ_target\n",
        "\n",
        "        Params\n",
        "        ======\n",
        "            local_model (PyTorch model): weights will be copied from\n",
        "            target_model (PyTorch model): weights will be copied to\n",
        "            tau (float): interpolation parameter \n",
        "        \"\"\"\n",
        "        for target_param, local_param in zip(target_model.parameters(), local_model.parameters()):\n",
        "            target_param.data.copy_(tau*local_param.data + (1.0-tau)*target_param.data)\n",
        "\n",
        "\n",
        "class ReplayBuffer:\n",
        "    \"\"\"Fixed-size buffer to store experience tuples.\"\"\"\n",
        "\n",
        "    def __init__(self, action_size, buffer_size, batch_size, seed):\n",
        "        \"\"\"Initialize a ReplayBuffer object.\n",
        "\n",
        "        Params\n",
        "        ======\n",
        "            action_size (int): dimension of each action\n",
        "            buffer_size (int): maximum size of buffer\n",
        "            batch_size (int): size of each training batch\n",
        "            seed (int): random seed\n",
        "        \"\"\"\n",
        "        self.action_size = action_size\n",
        "        self.memory = deque(maxlen=buffer_size)  \n",
        "        self.batch_size = batch_size\n",
        "        self.experience = namedtuple(\"Experience\", field_names=[\"state\", \"action\", \"reward\", \"next_state\", \"done\"])\n",
        "        self.seed = random.seed(seed)\n",
        "    \n",
        "    def add(self, state, action, reward, next_state, done):\n",
        "        \"\"\"Add a new experience to memory.\"\"\"\n",
        "        e = self.experience(state, action, reward, next_state, done)\n",
        "        self.memory.append(e)\n",
        "    \n",
        "    def sample(self):\n",
        "        \"\"\"Randomly sample a batch of experiences from memory.\"\"\"\n",
        "        experiences = random.sample(self.memory, k=self.batch_size)\n",
        "\n",
        "        states = torch.from_numpy(np.vstack([e.state for e in experiences if e is not None])).float().to(device)\n",
        "        actions = torch.from_numpy(np.vstack([e.action for e in experiences if e is not None])).long().to(device)\n",
        "        rewards = torch.from_numpy(np.vstack([e.reward for e in experiences if e is not None])).float().to(device)\n",
        "        next_states = torch.from_numpy(np.vstack([e.next_state for e in experiences if e is not None])).float().to(device)\n",
        "        dones = torch.from_numpy(np.vstack([e.done for e in experiences if e is not None]).astype(np.uint8)).float().to(device)\n",
        "  \n",
        "        return (states, actions, rewards, next_states, dones)\n",
        "\n",
        "    def __len__(self):\n",
        "        \"\"\"Return the current size of internal memory.\"\"\"\n",
        "        return len(self.memory)"
      ]
    },
    {
      "cell_type": "markdown",
      "metadata": {
        "id": "aU9M6sGe_L-3"
      },
      "source": [
        "## Environment"
      ]
    },
    {
      "cell_type": "code",
      "execution_count": null,
      "metadata": {
        "id": "wLjmVoem_Lap"
      },
      "outputs": [],
      "source": [
        "import torch\n",
        "import dgl\n",
        "from collections import namedtuple\n",
        "import dgl.function as fn\n",
        "from copy import deepcopy as dc\n",
        "import random\n",
        "import time\n",
        "from time import time\n",
        "from torch.utils.data import DataLoader\n",
        "import numpy as np\n",
        "from collections import deque\n",
        "\n",
        "class IM(object):\n",
        "    def __init__(self, max_budget, p, num_nodes, cost):\n",
        "        self.max_budget = max_budget\n",
        "        self.BUDGET = max_budget\n",
        "        assert(p <= 1 and p >= 0)\n",
        "        self.p = p\n",
        "        self.num_nodes = num_nodes\n",
        "        self.cost = cost\n",
        "\n",
        "    def compute_reward(self, state):\n",
        "        # reward is the number of additional nodes influenced\n",
        "        reward = 0\n",
        "        # each node has one chance to influence each neighbour\n",
        "        new_influenced = state.detach().cpu().numpy().ravel()\n",
        "        tot_influenced = state.detach().cpu().numpy().ravel()\n",
        "        while((new_influenced == 1).sum() >= 1):\n",
        "            # next = torch.full(\n",
        "            #     (self.num_nodes, 1),\n",
        "            #     0, \n",
        "            #     dtype = torch.long\n",
        "            #     )\n",
        "            next = np.zeros(self.num_nodes)\n",
        "            for e in range(self.g.number_of_edges()):\n",
        "                # print(new_influenced[self.g.edges()[0][e]])\n",
        "                if((new_influenced[self.g.edges()[0][e]] == 1) and \n",
        "                   not(tot_influenced[self.g.edges()[1][e]] == 1 or new_influenced[self.g.edges()[1][e]] == 1)):\n",
        "                    r = random.random()\n",
        "                    if(r < self.p):\n",
        "                        # node influenced\n",
        "                        next[self.g.edges()[1][e]] = 1\n",
        "                        reward += 1\n",
        "            tot_influenced = tot_influenced + new_influenced\n",
        "            new_influenced = next\n",
        "        return reward\n",
        "     \n",
        "    def step(self, action):\n",
        "        reward, sol, done = self._take_action(action)\n",
        "        \n",
        "        ob = self._build_ob()\n",
        "        self.sol = sol\n",
        "        info = {\"sol\": self.sol}\n",
        "\n",
        "        # need to convert ob to ndarray from tensor\n",
        "        ob = ob.detach().cpu().numpy().ravel()\n",
        "        next_state = np.copy(ob)\n",
        "        return next_state, reward, done, info\n",
        "    \n",
        "    def _take_action(self, action):\n",
        "        r1, r2 = 0, 0\n",
        "        num_iter = 100\n",
        "        for i in range(num_iter):\n",
        "            r1 += self.compute_reward(self.x[:-1])\n",
        "        if(self.x[action] == 0 and self.cost[action] <= self.max_budget):\n",
        "            self.x[action] = 1\n",
        "            self.x[-1] -= self.cost[action]\n",
        "            self.max_budget -= self.cost[action]\n",
        "        # write code for else case \n",
        "        next_sol = 0\n",
        "        for i in range(num_iter):\n",
        "            r2 += self.compute_reward(self.x[:-1])\n",
        "        done = self._check_done()\n",
        "        return (r2 - r1)/num_iter, next_sol, done\n",
        "\n",
        "    def _check_done(self): \n",
        "        inactive = (self.x[:-1] == 0).type(torch.float)\n",
        "        # print(inactive)\n",
        "        self.g.ndata['h'] = inactive\n",
        "        not_selected = dgl.sum_nodes(self.g, 'h')\n",
        "        self.g.ndata.pop('h')\n",
        "        done = (not_selected == 0) or (self.max_budget <= 0)\n",
        "        return done\n",
        "                \n",
        "    def _build_ob(self):\n",
        "        ob_x = self.x\n",
        "        # return ob\n",
        "        return ob_x\n",
        "    \n",
        "    # using num_samples = 1 as of now \n",
        "    def register(self, g, num_samples = 1):\n",
        "        self.g = g\n",
        "        self.g.set_n_initializer(dgl.init.zero_initializer)\n",
        "        t = torch.full((self.num_nodes, 1), 0, dtype=torch.float16)\n",
        "        # torch.full(\n",
        "            #     (self.num_nodes, 1),\n",
        "            #     0, \n",
        "            #     dtype = torch.long\n",
        "            #     )\n",
        "        self.x = torch.cat((t, torch.tensor([[self.max_budget]])), 0)\n",
        "        ob = self._build_ob()\n",
        "        return ob\n",
        "\n",
        "\n",
        "    def reset(self):\n",
        "        state = np.zeros(self.num_nodes + 1)\n",
        "        state[-1] = self.BUDGET\n",
        "\n",
        "        t = torch.full((self.num_nodes, 1), 0, dtype=torch.float16)\n",
        "        self.max_budget = self.BUDGET\n",
        "        self.x = torch.cat((t, torch.tensor([[self.max_budget]])), 0)\n",
        "\n",
        "        return np.array(state)"
      ]
    },
    {
      "cell_type": "markdown",
      "metadata": {
        "id": "vncLgXZQ_j18"
      },
      "source": [
        "## Main "
      ]
    },
    {
      "cell_type": "code",
      "execution_count": null,
      "metadata": {
        "colab": {
          "base_uri": "https://localhost:8080/"
        },
        "id": "IVM_MOc97k_-",
        "outputId": "f63de7ad-72e0-4631-9528-db71c2f2c02f"
      },
      "outputs": [
        {
          "name": "stdout",
          "output_type": "stream",
          "text": [
            "tensor([[   0.],\n",
            "        [   0.],\n",
            "        [   0.],\n",
            "        [   0.],\n",
            "        [   0.],\n",
            "        [1000.]], dtype=torch.float16)\n"
          ]
        }
      ],
      "source": [
        "cost = torch.tensor([300, 300, 300, 300, 300])\n",
        "maxb = 1000\n",
        "env = IM(maxb, 0.6, 5, cost)\n",
        "src_ids = torch.tensor([0, 1, 2, 3])\n",
        "dst_ids = torch.tensor([1, 2, 3, 4])\n",
        "g = dgl.graph((src_ids, dst_ids), num_nodes=5)\n",
        "ob = env.register(g)\n",
        "\n",
        "\n",
        "print(ob)"
      ]
    },
    {
      "cell_type": "code",
      "execution_count": null,
      "metadata": {
        "colab": {
          "base_uri": "https://localhost:8080/"
        },
        "id": "r5tokBX_4C-t",
        "outputId": "52ca5eaf-843b-4814-dabb-0b49b34d8438"
      },
      "outputs": [
        {
          "name": "stdout",
          "output_type": "stream",
          "text": [
            "[1, 0, 0, 1, 0, 1000]\n",
            "[1, 0, 0, 1, 0] False\n",
            "[1, 2, 4]\n",
            "2\n"
          ]
        }
      ],
      "source": [
        "agent = Agent(state_size=env.num_nodes + 1, action_size=env.num_nodes, seed=0)\n",
        "\n",
        "passed_state  = [1, 0, 0, 1, 0, 1000]\n",
        "print(passed_state)\n",
        "\n",
        "node_state = passed_state[: -1 ]\n",
        "print(node_state, node_state == 1)\n",
        "\n",
        "valid_idx = []\n",
        "for i in range(len(node_state)):\n",
        "    if(node_state[i] == 0):\n",
        "        valid_idx.append(i)\n",
        "\n",
        "print(valid_idx)\n",
        "\n",
        "\n",
        "print(random.choice(np.array(valid_idx)))\n"
      ]
    },
    {
      "cell_type": "markdown",
      "metadata": {
        "id": "tlTr-Dwc6lqk"
      },
      "source": [
        "### dqn"
      ]
    },
    {
      "cell_type": "code",
      "execution_count": null,
      "metadata": {
        "id": "TceR8SAo7Gw6"
      },
      "outputs": [],
      "source": [
        "def dqn(n_episodes=2000, max_t=1000, eps_start=1.0, eps_end=0.01, eps_decay=0.995):\n",
        "    \"\"\"Deep Q-Learning.\n",
        "    \n",
        "    Params\n",
        "    ======\n",
        "        n_episodes (int): maximum number of training episodes\n",
        "        max_t (int): maximum number of timesteps per episode\n",
        "        eps_start (float): starting value of epsilon, for epsilon-greedy action selection\n",
        "        eps_end (float): minimum value of epsilon\n",
        "        eps_decay (float): multiplicative factor (per episode) for decreasing epsilon\n",
        "    \"\"\"\n",
        "    scores = []                        # list containing scores from each episode\n",
        "    scores_window = deque(maxlen=100)  # last 100 scores\n",
        "    eps = eps_start                    # initialize epsilon\n",
        "    for i_episode in range(1, n_episodes+1):\n",
        "        state = env.reset()\n",
        "        score = 0\n",
        "        for t in range(max_t):\n",
        "            action = agent.act(env, state, eps)\n",
        "            if action == -1:\n",
        "                # print(\"**********done**********\\n\")\n",
        "                break \n",
        "            next_state, reward, done, _ = env.step(action)\n",
        "            # print(\"environments step : \", state, action, next_state, reward)\n",
        "            agent.step(state, action, reward, next_state, done)\n",
        "            state = next_state\n",
        "            score += reward\n",
        "            if done:\n",
        "                # print(\"**********done**********\\n\")\n",
        "                break \n",
        "\n",
        "        # print(\"~~~~~~~~~~end of time~~~~~~~~~~\\n\")\n",
        "        scores_window.append(score)       # save most recent score\n",
        "        scores.append(score)              # save most recent score\n",
        "        eps = max(eps_end, eps_decay*eps) # decrease epsilon\n",
        "        print('\\rEpisode {}\\tAverage Score: {:.2f}'.format(i_episode, np.mean(scores_window)), end=\"\")\n",
        "        if i_episode % 10 == 0:\n",
        "            print('\\rEpisode {}\\tAverage Score: {:.2f}'.format(i_episode, np.mean(scores_window)))\n",
        "        if np.mean(scores_window)>=200.0:\n",
        "            print('\\nEnvironment solved in {:d} episodes!\\tAverage Score: {:.2f}'.format(i_episode-100, np.mean(scores_window)))\n",
        "            torch.save(agent.qnetwork_local.state_dict(), 'checkpoint.pth')\n",
        "            break\n",
        "    return scores\n"
      ]
    },
    {
      "cell_type": "code",
      "execution_count": null,
      "metadata": {
        "colab": {
          "base_uri": "https://localhost:8080/"
        },
        "id": "RZ2ljAM1B3LQ",
        "outputId": "7096bb54-b255-47fd-9f4d-e0f750bb2f8d"
      },
      "outputs": [
        {
          "name": "stdout",
          "output_type": "stream",
          "text": [
            "Episode 10\tAverage Score: 1.41\n",
            "Episode 20\tAverage Score: 1.34\n",
            "Episode 30\tAverage Score: 1.26\n",
            "Episode 40\tAverage Score: 1.28\n",
            "Episode 50\tAverage Score: 1.32\n",
            "Episode 60\tAverage Score: 1.28\n",
            "Episode 70\tAverage Score: 1.30\n",
            "Episode 80\tAverage Score: 1.28\n",
            "Episode 90\tAverage Score: 1.29\n",
            "Episode 100\tAverage Score: 1.26\n"
          ]
        }
      ],
      "source": [
        "scores = dqn(100)"
      ]
    },
    {
      "cell_type": "code",
      "execution_count": null,
      "metadata": {
        "colab": {
          "base_uri": "https://localhost:8080/",
          "height": 279
        },
        "id": "R6t_HlnH7zLo",
        "outputId": "52786adb-bc20-4b5d-d0de-0b6865267f6c"
      },
      "outputs": [
        {
          "data": {
            "image/png": "[encoded data removed]",
            "text/plain": [
              "<Figure size 432x288 with 1 Axes>"
            ]
          },
          "metadata": {
            "needs_background": "light"
          },
          "output_type": "display_data"
        }
      ],
      "source": [
        "# plot the scores\n",
        "fig = plt.figure()\n",
        "ax = fig.add_subplot(111)\n",
        "plt.plot(np.arange(len(scores)), scores)\n",
        "plt.ylabel('Score')\n",
        "plt.xlabel('Episode #')\n",
        "plt.show()"
      ]
    },
    {
      "cell_type": "code",
      "execution_count": null,
      "metadata": {
        "id": "xUi9IroyrME_"
      },
      "outputs": [],
      "source": []
    }
  ],
  "metadata": {
    "colab": {
      "provenance": [],
      "toc_visible": true
    },
    "kernelspec": {
      "display_name": "Python 3",
      "name": "python3"
    },
    "language_info": {
      "name": "python"
    }
  },
  "nbformat": 4,
  "nbformat_minor": 0
}
